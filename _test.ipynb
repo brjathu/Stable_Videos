{
 "cells": [
  {
   "cell_type": "code",
   "execution_count": null,
   "metadata": {},
   "outputs": [
    {
     "name": "stderr",
     "output_type": "stream",
     "text": [
      "Fetching 15 files: 100%|██████████| 15/15 [00:00<00:00, 1130.76it/s]\n"
     ]
    }
   ],
   "source": [
    "import open3d as o3d\n",
    "import numpy as np\n",
    "import glob\n",
    "\n",
    "# from utils import read_pfm\n",
    "\n",
    "intrinsic = o3d.read_pinhole_camera_intrinsic(\"intrinsics.json\")\n",
    "\n",
    "# c_imgs = \"out/img.jpg\"\n",
    "# d_imgs = \"out/depth.jpg\"\n",
    "\n",
    "# for idx in range(len(c_imgs)):\n",
    "#     color = o3d.read_image(c_imgs[idx])\n",
    "#     idepth = read_pfm(d_imgs[idx])[0]\n",
    "\n",
    "#     idepth = idepth - np.amin(idepth)\n",
    "#     idepth /= np.amax(idepth)\n",
    "\n",
    "#     focal = intrinsic.intrinsic_matrix[0, 0]\n",
    "#     depth = focal / (idepth)\n",
    "#     depth[depth >= 5 * focal] = np.inf\n",
    "\n",
    "#     depth = o3d.Image(depth)\n",
    "\n",
    "#     rgbdi = o3d.create_rgbd_image_from_color_and_depth(color, depth)\n",
    "#     pcd = o3d.create_point_cloud_from_rgbd_image(rgbdi, intrinsic)\n",
    "#     o3d.draw_geometries([pcd])"
   ]
  }
 ],
 "metadata": {
  "kernelspec": {
   "display_name": "Python 3.8.15 ('diffusion')",
   "language": "python",
   "name": "python3"
  },
  "language_info": {
   "codemirror_mode": {
    "name": "ipython",
    "version": 3
   },
   "file_extension": ".py",
   "mimetype": "text/x-python",
   "name": "python",
   "nbconvert_exporter": "python",
   "pygments_lexer": "ipython3",
   "version": "3.8.15"
  },
  "orig_nbformat": 4,
  "vscode": {
   "interpreter": {
    "hash": "ac8d1b777f9c3d0a9592d3b5386eb9af43c207b20ae4f369737dcfe0f3a11f6f"
   }
  }
 },
 "nbformat": 4,
 "nbformat_minor": 2
}
